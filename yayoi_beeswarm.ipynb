{
 "cells": [
  {
   "cell_type": "markdown",
   "metadata": {},
   "source": [
    "# Yayoi kusama\n",
    "\n",
    "inspiration: Composition with grid 8 (check it out on [Wikimedia](https://commons.wikimedia.org/wiki/Category:Composition_with_grid_8:_checkerboard_composition_with_dark_colors_(0334326)))\n",
    "In 1918, after World War I, Mondrian returned to France and embraced abstract art. Shortly after his return he started working on his grid-based paintings and became one of the most prominent advocate of Neoplasticism.\n",
    "While his red-yellow-blue composition from the Twenties beacame his signature style, here I will focus on his Grid8 from 1919.\n",
    "It's facinating how this artwork is visually similar to a grid heat map, especially considering that one of the the oldest example of this type of chat was created by Toussaint Loua to visualize social statistics across the districts of Paris (check it out on [Wikimedia](https://commons.wikimedia.org/wiki/File:Loua.png)) in 1873. \n",
    "It is well-known how Mondrian work was influenced by mathematics and painted by applying the most elementary principles through plainly rational means, like Renaissence algebra rules. However, I never found any indication that he may have known about the state of the art in data visualization."
   ]
  },
  {
   "cell_type": "markdown",
   "metadata": {},
   "source": [
    "## The data\n",
    "This visualization uses the monthly number of reported arrests for various offenses reported by participating law enforcement agencies in the USA. \n",
    "The data was downloaded from the [Crime Data Explorer](https://crime-data-explorer.fr.cloud.gov/#)."
   ]
  },
  {
   "cell_type": "code",
   "execution_count": null,
   "metadata": {},
   "outputs": [],
   "source": [
    "import copy\n",
    "import numpy as np\n",
    "import pandas as pd\n",
    "import matplotlib\n",
    "import matplotlib.pyplot as plt\n",
    "import seaborn as sns"
   ]
  },
  {
   "cell_type": "code",
   "execution_count": null,
   "metadata": {},
   "outputs": [],
   "source": [
    "crime = pd.read_csv('./data/arrests_national.csv')\n",
    "crime = crime.drop( columns = ['id', 'population', 'total_arrests', 'other'])\n",
    "crime = crime.set_index('year')\n",
    "print(crime.columns.values)"
   ]
  },
  {
   "cell_type": "code",
   "execution_count": null,
   "metadata": {},
   "outputs": [],
   "source": [
    "df_tot = pd.DataFrame(columns=['type', 'tot'])\n",
    "df_crime = copy.copy(crime)\n",
    "for column in df_crime:\n",
    "  row = {'type': [column], 'tot': [df_crime[column].sum()]}\n",
    "  df_tmp = pd.DataFrame(data = row)\n",
    "  df_tot = pd.concat([df_tot, df_tmp])\n",
    "  \n",
    "df_tot = df_tot.sort_values(by = ['tot'], ascending = False)\n",
    "df_tot = df_tot.reset_index(drop = True)\n",
    "# df_tot.head(12)\n",
    "print(df_tot.iloc[12:25])"
   ]
  },
  {
   "cell_type": "code",
   "execution_count": null,
   "metadata": {},
   "outputs": [],
   "source": [
    "# df = pd.read_csv('./data/weather_data.csv')\n",
    "# df = df.drop(columns='utc_timestamp')\n",
    "# print(list(df.columns))\n",
    "# nation = [col for col in df.columns if 'GR' in col]\n",
    "# print(nation)\n",
    "# df = df[nation]\n",
    "# df.head(3)"
   ]
  },
  {
   "cell_type": "code",
   "execution_count": null,
   "metadata": {},
   "outputs": [],
   "source": [
    "# df = pd.read_csv('./data/Data_Set_Final_LTD_Slope_Intercept.tab', sep='\\t')\n",
    "# print(df.columns.values)\n",
    "# df = df[['County', 'LungCancer', 'PM2.5', 'PM10', 'SO2', 'NO2', 'O3', 'CO', 'CN', 'Disel', 'CS2']]\n",
    "# df = df.set_index('County')\n",
    "# df.head(3)"
   ]
  },
  {
   "cell_type": "code",
   "execution_count": null,
   "metadata": {},
   "outputs": [],
   "source": [
    "# df_pollutants = df[['PM2.5', 'PM10', 'SO2', 'NO2', 'O3', 'CO', 'CN', 'Disel', 'CS2']]\n",
    "# plt.figure(figsize=(10, 10))\n",
    "# sns.heatmap(df_pollutants.corr())"
   ]
  }
 ],
 "metadata": {
  "kernelspec": {
   "display_name": "Python 3.10.6 64-bit",
   "language": "python",
   "name": "python3"
  },
  "language_info": {
   "name": "python",
   "version": "3.10.6"
  },
  "orig_nbformat": 4,
  "vscode": {
   "interpreter": {
    "hash": "916dbcbb3f70747c44a77c7bcd40155683ae19c65e1c03b4aa3499c5328201f1"
   }
  }
 },
 "nbformat": 4,
 "nbformat_minor": 2
}
