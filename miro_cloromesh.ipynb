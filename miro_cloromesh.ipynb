{
 "cells": [
  {
   "cell_type": "markdown",
   "metadata": {},
   "source": [
    "# Joan Miró\n",
    "For all his life, Miró was in contact with multiple artistic movements, but he never really became an official member of any.\n",
    "Through the mid-1920s Miró developed the pictorial sign language: organic forms and flattened picture planes drawn with a sharp line.\n",
    "The contour line isn't always present, and figures can be [more](https://www.wikiart.org/en/joan-miro/cap-d-home) or [less](https://www.wikiart.org/en/joan-miro/head-of-a-man) abstract. The areas of colour are the real constant even in his [sculptures](https://www.joan-miro.net/construction.jsp).\n",
    "\n",
    "Topographic maps and pcloromesh can be visually similar to his work."
   ]
  }
 ],
 "metadata": {
  "kernelspec": {
   "display_name": "Python 3.10.6 ('datart_env': venv)",
   "language": "python",
   "name": "python3"
  },
  "language_info": {
   "name": "python",
   "version": "3.10.6"
  },
  "orig_nbformat": 4,
  "vscode": {
   "interpreter": {
    "hash": "e3a0bd6b452f5326b69bf7600fa2ec607d900d71f183a41ba3734c3cbd9c7e32"
   }
  }
 },
 "nbformat": 4,
 "nbformat_minor": 2
}
