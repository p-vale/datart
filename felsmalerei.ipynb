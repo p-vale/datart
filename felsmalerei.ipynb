{
 "cells": [
  {
   "cell_type": "markdown",
   "metadata": {},
   "source": [
    "# Cave Art\n",
    "Rock art is the oldest artistic expression of human kind. No matter how much we develop and depend on language, images will always have a strong impact on people.\n",
    "Thus, it is a bit strange to learn the use of icons and pictures, in the field of data visualization, was popularized only in the 1930s by Otto Neurath."
   ]
  }
 ],
 "metadata": {
  "kernelspec": {
   "display_name": "Python 3.10.6 64-bit",
   "language": "python",
   "name": "python3"
  },
  "language_info": {
   "name": "python",
   "version": "3.10.6"
  },
  "orig_nbformat": 4,
  "vscode": {
   "interpreter": {
    "hash": "916dbcbb3f70747c44a77c7bcd40155683ae19c65e1c03b4aa3499c5328201f1"
   }
  }
 },
 "nbformat": 4,
 "nbformat_minor": 2
}
