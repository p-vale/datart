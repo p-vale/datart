{
 "cells": [
  {
   "cell_type": "markdown",
   "metadata": {},
   "source": [
    "# Barnett Newman and Henri Matisse\n",
    "Referencing a [Color Field](https://it.wikipedia.org/wiki/Color_field) expontent is almost boring. It could be even seen as cheating.\n",
    "Each of his works may remind the onlooker of an artistic stacked barchart. Yet here we are.\n",
    "What makes Newmann fascinating in this brief playful journey between data and art is the change of his work. Although his paintings appear to be abstract, untitled or with names like *Onement 1*, he later named them hinting at specific themes and subjects.\n",
    "A similar case is Henri Matisse's [French Window at Collioure](https://www.wikiart.org/en/henri-matisse/french-window-at-collioure). Without the title we just see 4 rectangles. Moreover, for those familiar with Impressionism, the connection with Édouard Manet's [The Balcony](https://www.wikiart.org/en/edouard-manet/the-balcony-1869) is easy.\n",
    "\n",
    "Similarly a barchart needs a title and a context, or at least labels, to be understood. In fact, multiple sources  indicate the [Exports and Imports of Scotland to and from different parts for one Year from Christmas 1780 to Christmas 1781 graph from his The Commercial and Political Atlas](https://commons.wikimedia.org/wiki/File:1786_Playfair_-_Exports_and_Imports_of_Scotland_to_and_from_different_parts_for_one_Year_from_Christmas_1780_to_Christmas_1781.jpg) by William Playfair to be the first bar chart in history. Isn't that a long and explicative title?"
   ]
  }
 ],
 "metadata": {
  "kernelspec": {
   "display_name": "Python 3.10.6 64-bit",
   "language": "python",
   "name": "python3"
  },
  "language_info": {
   "name": "python",
   "version": "3.10.6"
  },
  "orig_nbformat": 4,
  "vscode": {
   "interpreter": {
    "hash": "916dbcbb3f70747c44a77c7bcd40155683ae19c65e1c03b4aa3499c5328201f1"
   }
  }
 },
 "nbformat": 4,
 "nbformat_minor": 2
}
